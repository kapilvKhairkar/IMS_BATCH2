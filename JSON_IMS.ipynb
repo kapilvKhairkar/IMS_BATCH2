{
 "cells": [
  {
   "cell_type": "markdown",
   "id": "264636e5",
   "metadata": {},
   "source": [
    "# Name: Kapil Khairkar\n",
    "# Batch: 2"
   ]
  },
  {
   "cell_type": "markdown",
   "id": "984b1250",
   "metadata": {},
   "source": [
    "##  Records in Dictionary format\n"
   ]
  },
  {
   "cell_type": "code",
   "execution_count": 10,
   "id": "c264ba7b",
   "metadata": {},
   "outputs": [],
   "source": [
    "record={\n",
    "    101101:{\"name\":\"Boiled Rice\" , \"product-type\":\"Grains\" , \"price\": 70, \"expriy\":\"28-09-23\", \"weight\":1 ,\"stock\":10},\n",
    "    101102:{\"name\":\"Idli Rice \" , \"product-type\":\"Grains\" , \"price\": 60, \"expriy\":\"28-10-23\", \"weight\":1 ,\"stock\":10},\n",
    "    101103:{\"name\":\"Raw Rice\" , \"product-type\":\"Grains\" , \"price\": 50, \"expriy\":\"18-11-23\", \"weight\":1 ,\"stock\":10},\n",
    "    101104:{\"name\":\"Basmati Rice\" , \"product-type\":\"Grains\" , \"price\": 35, \"expriy\":\"08-02-21\", \"weight\":1 ,\"stock\":10},\n",
    "    101105:{\"name\":\"Brown Rice\" , \"product-type\":\"Grains\" , \"price\": 80, \"expriy\":\"22-09-26\", \"weight\":1 ,\"stock\":10},\n",
    "    101106:{\"name\":\"Wheat Flour\" , \"product-type\":\"Grains\" , \"price\": 90, \"expriy\":\"8-04-24\", \"weight\":1 ,\"stock\":10},\n",
    "    101107:{\"name\":\"Maida\" , \"product-type\":\"Grains\" , \"price\": 87, \"expriy\":\"09-09-23\", \"weight\":1 ,\"stock\":10},\n",
    "    101108:{\"name\":\"Rava\" , \"product-type\":\"Grains\" , \"price\": 85, \"expriy\":\"10-09-24\", \"weight\":1 ,\"stock\":10},\n",
    "    101109:{\"name\":\"Ragi Flour\" , \"product-type\":\"Grains\" , \"price\": 45, \"expriy\":\"18-11-29\", \"weight\":1 ,\"stock\":10},\n",
    "    101110:{\"name\":\"Rice Flour\" , \"product-type\":\"Grains\" , \"price\": 20, \"expriy\":\"18-03-23\", \"weight\":1 ,\"stock\":10},\n",
    "    101111:{\"name\":\"Little Millet\" , \"product-type\":\"Grains\" , \"price\": 23, \"expriy\":\"16-05-23\", \"weight\":1 ,\"stock\":10},\n",
    "    101112:{\"name\":\"Foxtail Millet\" , \"product-type\":\"Grains\" , \"price\": 100, \"expriy\":\"19-09-23\", \"weight\":1 ,\"stock\":10},\n",
    "    101113:{\"name\":\"Pressured Rice\" , \"product-type\":\"Grains\" , \"price\": 140, \"expriy\":\"35-09-23\", \"weight\":1 ,\"stock\":10},\n",
    "    101114:{\"name\":\"Sago\" , \"product-type\":\"Grains\" , \"price\":56 , \"expriy\":\"17-09-23\", \"weight\":1 ,\"stock\":10},\n",
    "    101115:{\"name\":\"Gram Flour\" , \"product-type\":\"Grains\" , \"price\":76 , \"expriy\":\"13-04-23\", \"weight\":1 ,\"stock\":10},\n",
    "    101116:{\"name\":\"Vermicelli\" , \"product-type\":\"Grains\" , \"price\":99 , \"expriy\":\"15-02-23\", \"weight\":1 ,\"stock\":10},\n",
    "    101117:{\"name\":\"Insta Rice Sevai\" , \"product-type\":\"Grains\" , \"price\":80 , \"expriy\":\"16-09-23\", \"weight\":1 ,\"stock\":10},\n",
    "    101118:{\"name\":\"Broken Wheat\" , \"product-type\":\"Grains\" , \"price\":79 , \"expriy\":\"17-09-23\", \"weight\":1 ,\"stock\":10},\n",
    "    101119:{\"name\":\"Urad dal\" , \"product-type\":\"Pulses\" , \"price\":43 , \"expriy\":\"18-09-23\", \"weight\":1 ,\"stock\":10},\n",
    "    101120:{\"name\":\"Toor dal\" , \"product-type\":\"Pulses\" , \"price\": 59, \"expriy\":\"19-09-23\", \"weight\":1 ,\"stock\":10},\n",
    "    101121:{\"name\":\"Moong dal\" , \"product-type\":\"Pulses\" , \"price\":62 , \"expriy\":\"20-09-23\", \"weight\":1 ,\"stock\":10},\n",
    "    101122:{\"name\":\"Chana dal\" , \"product-type\":\"Pulses\" , \"price\": 74, \"expriy\":\"21-09-23\", \"weight\":1 ,\"stock\":10},\n",
    "    101123:{\"name\":\"Dried Green peas\" , \"product-type\":\"Pulses\" , \"price\": 88, \"expriy\":\"22-09-23\", \"weight\":1 ,\"stock\":10},\n",
    "    101124:{\"name\":\"Frozen Green Peas\" , \"product-type\":\"Pulses\" , \"price\":68, \"expriy\":\"25-09-23\", \"weight\":1 ,\"stock\":10},\n",
    "    101125:{\"name\":\"Frozen Corn\" , \"product-type\":\"Pulses\" , \"price\": 99, \"expriy\":\"02-01-24\", \"weight\":1 ,\"stock\":10},\n",
    "    101126:{\"name\":\"Salt\" , \"product-type\":\"Spices\" , \"price\":35 , \"expriy\":\"4-01-24\", \"weight\":1 ,\"stock\":10},\n",
    "    101127:{\"name\":\"Crystal salt\" , \"product-type\":\"Spices\" , \"price\": 78, \"expriy\":\"28-09-23\", \"weight\":1 ,\"stock\":10},\n",
    "    101128:{\"name\":\"Sugar\" , \"product-type\":\"Spices\" , \"price\": 81, \"expriy\":\"8-01-24\", \"weight\":1 ,\"stock\":10},\n",
    "    101129:{\"name\":\"Jaggery\" , \"product-type\":\"Spices\" , \"price\": 93, \"expriy\":\"16-01-24\", \"weight\":1 ,\"stock\":10},\n",
    "    101130:{\"name\":\"Coffee\" , \"product-type\":\"Spices\" , \"price\": 200, \"expriy\":\"02-02-24\", \"weight\":1 ,\"stock\":10}\n",
    "}"
   ]
  },
  {
   "cell_type": "markdown",
   "id": "8d926ee4",
   "metadata": {},
   "source": [
    "## Importing Libraries"
   ]
  },
  {
   "cell_type": "code",
   "execution_count": 11,
   "id": "2c17d2c8",
   "metadata": {},
   "outputs": [],
   "source": [
    "import json\n",
    "import time"
   ]
  },
  {
   "cell_type": "markdown",
   "id": "45bb53a3",
   "metadata": {},
   "source": [
    "## Writing a data in Records.json file"
   ]
  },
  {
   "cell_type": "code",
   "execution_count": 12,
   "id": "a94ff55e",
   "metadata": {},
   "outputs": [],
   "source": [
    "fpt=open(\"Records.json\",\"w\")\n",
    "record1=json.dumps(record)\n",
    "fpt.write(record1)\n",
    "fpt.close()\n"
   ]
  },
  {
   "cell_type": "markdown",
   "id": "e229ae6a",
   "metadata": {},
   "source": [
    "## Reading a file named Records.json "
   ]
  },
  {
   "cell_type": "code",
   "execution_count": 14,
   "id": "89098399",
   "metadata": {},
   "outputs": [],
   "source": [
    "fpt=open(\"Records.json\",\"r\")\n",
    "record2=json.loads(record1)\n",
    "fpt.close()"
   ]
  },
  {
   "cell_type": "markdown",
   "id": "d3542510",
   "metadata": {},
   "source": [
    "## Checking the datatypes"
   ]
  },
  {
   "cell_type": "code",
   "execution_count": 15,
   "id": "ec7873fb",
   "metadata": {},
   "outputs": [
    {
     "name": "stdout",
     "output_type": "stream",
     "text": [
      "<class 'dict'>\n",
      "<class 'str'>\n",
      "<class 'dict'>\n"
     ]
    }
   ],
   "source": [
    "print(type(record))\n",
    "print(type(record1)) #data written on json file  \n",
    "print(type(record2))"
   ]
  },
  {
   "cell_type": "markdown",
   "id": "b089fbab",
   "metadata": {},
   "source": [
    "# Menu Drive "
   ]
  },
  {
   "cell_type": "markdown",
   "id": "c8c422a4",
   "metadata": {},
   "source": [
    "#### CAUTION: The file is written in such a manner that  if will process until user  press exit key(11)  otherwise you will be inside the menu loop"
   ]
  },
  {
   "cell_type": "code",
   "execution_count": 32,
   "id": "32493e6f",
   "metadata": {},
   "outputs": [
    {
     "name": "stdout",
     "output_type": "stream",
     "text": [
      "----------------------------------------------------------------------------------------------------\n",
      "1.Check the list of items with respect to batch id:   \n",
      "2.Check the list item with respect to price:   \n",
      "3.Get product By type:   \n",
      "4.Filter product By Expiry date:   \n",
      "5:Product based on their availiabilty(stock):   \n",
      "6:Product with all aspects:   \n",
      "7:Update the stock: \n",
      "8:Add new product: \n",
      "9:Delete a Product: \n",
      "10:Get Bill for the user: \n",
      "11:Exit: \n",
      "Enter Your Choice Please:11\n"
     ]
    }
   ],
   "source": [
    "while(True):\n",
    "    print(\"-\"*100)\n",
    "    print(\"1.Check the list of items with respect to batch id:   \")\n",
    "    print(\"2.Check the list item with respect to price:   \")\n",
    "    print(\"3.Get product By type:   \")\n",
    "    print(\"4.Filter product By Expiry date:   \")\n",
    "    print(\"5:Product based on their availiabilty(stock):   \")\n",
    "    print(\"6:Product with all aspects:   \")\n",
    "    print(\"7:Update the stock: \")\n",
    "    print(\"8:Add new product: \")\n",
    "    print(\"9:Delete a Product: \")\n",
    "    print(\"10:Get Bill for the user: \")\n",
    "    print(\"11:Exit: \")\n",
    "    choice = int(input(\"Enter Your Choice Please:\"))\n",
    "    if choice == 1:\n",
    "        for k, v in record2.items():\n",
    "            print(k, \":\", v['name'])\n",
    "    elif choice == 2:\n",
    "        for i in record2.values():\n",
    "            print(i['name'],\":\",i['price'])\n",
    "    elif choice == 3:\n",
    "        print(\"1.Grains\")\n",
    "        print(\"2.Pulses\")\n",
    "        print(\"3.Spices\")\n",
    "        type=int(input(\"enter the type of product:\"))\n",
    "        print(\"-\"*100)\n",
    "        if type == 1:\n",
    "            for i in record2.values():\n",
    "                if i['product-type'] == 'Grains':\n",
    "                    print(i['name'],\":\",i['product-type'])\n",
    "        elif type == 2:\n",
    "            for i in record2.values():\n",
    "                if i['product-type'] == 'Pulses':\n",
    "                    print(i['name'],\":\",i['product-type'])\n",
    "        elif type == 3:\n",
    "            for i in record2.values():\n",
    "                if i['product-type'] == 'Spices':\n",
    "                    print(i['name'],\":\",i['product-type'])\n",
    "        else:\n",
    "            print(\"sorry but the product-type you are searching is not available\")\n",
    "            break\n",
    "    elif choice == 4:\n",
    "        for i in record2.values():\n",
    "            print(i['name'],\":\",i['expriy'])\n",
    "    elif choice == 5:\n",
    "        for i in record2.values():\n",
    "            print(i['name'],\":\",i['stock'])\n",
    "    elif choice == 6:\n",
    "        for k, v in record2.items():\n",
    "            print(k, \":\",\"NAME: \", v['name'],\"PRODUCT-TYPE: \",v['product-type'],\"PRICE/KG:\",v['price'],\"EXPIRY DATE: \",v['expriy'],\"STOCK AVAILABLE: \",v['stock'])\n",
    "    elif choice == 7:\n",
    "        inz=input(\"Enter the id of product:\")\n",
    "        if inz in record2.keys():\n",
    "            print(\"The product is available to add stock\")\n",
    "            am=int(input(\"Enter the amount of stock need to add:\"))\n",
    "            record2[inz]['stock']+=am\n",
    "            \n",
    "            f=open(\"Update.json\",\"w\")\n",
    "            update1=json.dumps(record2)\n",
    "            f.write(update1)\n",
    "            f.close()\n",
    "            \n",
    "        else:\n",
    "            print(\"Sorry the product is not available. Please apply for add product!!!\")\n",
    "    elif choice == 8:\n",
    "        while(True):\n",
    "            inz=input(\"Enter the unique id for your product: \")\n",
    "            if inz in record2.keys():\n",
    "                print(\"The product id is already allocated, Try something else!!!i.e 1011xx where xx=inetgers\")\n",
    "                continue\n",
    "            else:\n",
    "                print(\"Successfully alocated the product id.\")\n",
    "                inz_name=input(\"Enter Product Name: \")\n",
    "                inz_product=input(\"Enter Product Type: \")\n",
    "                inz_price=int(input(\"Enter price per kg:\"))\n",
    "                inz_stock=int(input(\"Enter the amount of stock: \"))\n",
    "                dmy=input(\"enter the expiry date in format(dd-mm-yy): \")\n",
    "                dm=dmy.split('-')\n",
    "                dm_d=dm[0]\n",
    "                dm_m=dm[1]\n",
    "                dm_y=dm[2]\n",
    "                #for month\n",
    "                if len(dm_m)==2 and dm_m[0]=='0' and int(dm_m) in range(1,10):\n",
    "                    mm=dm_m[1]\n",
    "                    print(\"valid month\")\n",
    "                elif len(dm_m)==2 and dm_m[0]!='0' and int(dm_m) in range(10,13):\n",
    "                    mm=dm_m\n",
    "                    print(\"valid month\")\n",
    "                elif len(dm_m)==1 and int(dm_m) in range(1,10):\n",
    "                    mm=dm_m\n",
    "                    print(\"valid month\")\n",
    "                elif int(dm_m)>12:\n",
    "                    print(\"invalid month\")\n",
    "                    mm=input(\"Suggetion:Enter between 1 to 12 for month: \")\n",
    "                    print(\"successful input!!!\")\n",
    "                else:\n",
    "                    print(\"invalid month\")\n",
    "                    mm = input(\"Suggetion:Enter between 1 to 12 for month: \")\n",
    "                    print(\"successful input!!!\")\n",
    "                #for day\n",
    "                if int(mm) in [1,3,5,7,8,10,12]:\n",
    "                    if int(dm_d) in range(1,32):\n",
    "                        print('valid day for month 31 days')\n",
    "                        dd=dm_d\n",
    "                        if len(dd)==1:\n",
    "                            dd='0'+dd\n",
    "                        if len(mm)==1:\n",
    "                            mm='0'+mm\n",
    "                    else:\n",
    "                        print('invalid day')\n",
    "                        dd = input(\"Suggetion:Enter between 1 to 31 for day: \")\n",
    "                        print(\"successful input!!!\")\n",
    "                elif int(mm) in [4,6,9,11]:\n",
    "                    if int(dm_d) in range(1,31):\n",
    "                        print('valid day for 30 days')\n",
    "                        dd=dm_d\n",
    "                        if len(dd)==1:\n",
    "                            dd='0'+dd\n",
    "                        if len(mm)==1:\n",
    "                            mm='0'+mm\n",
    "                    else:\n",
    "                        print('invalid day')\n",
    "                        dd = input(\"Suggetion:Enter between 1 to 30 for day: \")\n",
    "                        print(\"successful input!!!\")\n",
    "                elif int(mm)==2:\n",
    "                    if int(dm_d) in range(1,30):\n",
    "                        print('valid day for 28 or 29 days')\n",
    "                        dd=dm_d\n",
    "                        if len(dd)==1:\n",
    "                            dd='0'+dd\n",
    "                        if len(mm)==1:\n",
    "                            mm='0'+mm\n",
    "                    elif int(dm_d)>30:\n",
    "                        print(\"invalid day\")\n",
    "                        dd = input(\"Suggetion:Enter between 1 to 29 for day: \")\n",
    "                        print(\"successful input!!!\")\n",
    "                #for year\n",
    "                if len(dm_y)==2 or len(dm_y)==4:\n",
    "                    print(\"valid year\")\n",
    "                    yy=dm_y\n",
    "                else:\n",
    "                    print(\"invalid year\")\n",
    "                    yy = input(\"Suggetion:Enter in yy or yyyy format : \")\n",
    "                    print(\"successful input!!!\")\n",
    "                    \n",
    "                inz_exp=dd+\"-\"+mm+\"-\"+yy\n",
    "                record2[inz]={\"name\": inz_name,\"product-type\":inz_product,\"price\":inz_price,\"expriy\":inz_exp,\"weight\":1,\"stock\":inz_stock}\n",
    "                \n",
    "                f=open(\"Update.json\",\"w\")\n",
    "                update1=json.dumps(record2)\n",
    "                f.write(update1)\n",
    "                f.close()\n",
    "            \n",
    "                break\n",
    "    elif choice==9:\n",
    "        inz=input(\"Enter the unique id for your product: \")\n",
    "        if inz in record2.keys():\n",
    "            print(\"The product with the unique id is present in records...\")\n",
    "            inz_choice=input(\"Want to delete the product.....Please enter Y/N:  \").lower()\n",
    "            if inz_choice=='y':\n",
    "                del record2[inz]\n",
    "                print(\"The Product has been deleted from the database\")\n",
    "                \n",
    "                f=open(\"Update.json\",\"w\")\n",
    "                update1=json.dumps(record2)\n",
    "                f.write(update1)\n",
    "                f.close()\n",
    "                \n",
    "            elif inz_choice=='n':\n",
    "                print(\"You intended to discard the deletion method.....\")\n",
    "            else:\n",
    "                print(\"Invalid Input from user!!!!!\")\n",
    "        else:\n",
    "            print(\"Unable to find the product with the given ID!!!!!\")\n",
    "    elif choice == 10:\n",
    "        print(\"*\"*120)\n",
    "        num=int(input(\"Enter the no. of products you need to purchase:  \"))\n",
    "        i=0\n",
    "        billing=0\n",
    "        sale={} #empty dictionary\n",
    "        while(i!=num):\n",
    "          x=input(\"enter the id for the product you need to purchase:  \")\n",
    "          print(\"Product details:  \")\n",
    "          print(\"Name : \",record2[x]['name'])\n",
    "          print(\"Amount : \",record2[x]['price'],\"Rupees\")\n",
    "          print(\"Type : \",record2[x]['product-type'])\n",
    "          print(\"Expiry date : \",record2[x]['expriy'])\n",
    "          y=input(\"How much amount does user requires:  \")\n",
    "          price_prod=float(y)*float(record2[x]['price'])\n",
    "          print(\"Name : \",record2[x]['name'],\"Price applied : \",int(price_prod),\"Rupees\")\n",
    "          if record2[x]['stock']<=0:\n",
    "            print(\"Product out of Stock!!!!!!\")\n",
    "            i+=1\n",
    "          else:\n",
    "            sale[x] = { \"name\" : record2[x]['name'] , \"product-type\" : record2[x]['product-type'] , \"price/kg\" : record2[x]['price'] , \"expriy\" : record2[x]['expriy'] ,\"weight required\" :  y , 'Purchased at': time.ctime()}\n",
    "            record2[x]['stock']-=float(y)\n",
    "            billing = billing + int(price_prod)\n",
    "            i+=1\n",
    "        print(\"Final Price to be Payed:  \",billing,\"   Payed at:\",time.ctime())\n",
    "        print(\"*\"*120)\n",
    "        f=open(\"salecounter.json\",\"a\")\n",
    "        f.write(json.dumps(sale))\n",
    "        f.close()\n",
    "    elif choice == 11:\n",
    "        break\n",
    "    else:\n",
    "        print(\"Entered Invalid Choice!!!!\")"
   ]
  },
  {
   "cell_type": "code",
   "execution_count": 27,
   "id": "bc817702",
   "metadata": {},
   "outputs": [
    {
     "data": {
      "text/plain": [
       "16.0"
      ]
     },
     "execution_count": 27,
     "metadata": {},
     "output_type": "execute_result"
    }
   ],
   "source": []
  }
 ],
 "metadata": {
  "kernelspec": {
   "display_name": "Python 3",
   "language": "python",
   "name": "python3"
  },
  "language_info": {
   "codemirror_mode": {
    "name": "ipython",
    "version": 3
   },
   "file_extension": ".py",
   "mimetype": "text/x-python",
   "name": "python",
   "nbconvert_exporter": "python",
   "pygments_lexer": "ipython3",
   "version": "3.8.8"
  }
 },
 "nbformat": 4,
 "nbformat_minor": 5
}
